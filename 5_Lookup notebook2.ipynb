{
 "cells": [
  {
   "cell_type": "markdown",
   "metadata": {
    "application/vnd.databricks.v1+cell": {
     "cellMetadata": {},
     "inputWidgets": {},
     "nuid": "a3f57aa3-9661-4eff-abc3-a81223475164",
     "showTitle": false,
     "tableResultSettingsMap": {},
     "title": ""
    }
   },
   "source": [
    "The dbutils.jobs utilities are particularly useful when designing workflows with dependencies between tasks.\n",
    "These utilities allow you to dynamically pass and retrieve data between tasks during execution."
   ]
  },
  {
   "cell_type": "code",
   "execution_count": 0,
   "metadata": {
    "application/vnd.databricks.v1+cell": {
     "cellMetadata": {
      "byteLimit": 2048000,
      "rowLimit": 10000
     },
     "inputWidgets": {},
     "nuid": "f5802f93-5afd-4d3e-b41e-1178059fb03e",
     "showTitle": true,
     "tableResultSettingsMap": {},
     "title": "create a user defined parameter"
    }
   },
   "outputs": [],
   "source": [
    "# create a widgets for the job\n",
    "dbutils.widgets.text(\"weekday\",\"7\")\n",
    "\n",
    "# get the value of widgets\n",
    "var_weekday = int(dbutils.widgets.get(\"weekday\"))"
   ]
  },
  {
   "cell_type": "code",
   "execution_count": 0,
   "metadata": {
    "application/vnd.databricks.v1+cell": {
     "cellMetadata": {
      "byteLimit": 2048000,
      "rowLimit": 10000
     },
     "inputWidgets": {},
     "nuid": "11929114-4f7d-4383-a814-c4402784d2b3",
     "showTitle": true,
     "tableResultSettingsMap": {},
     "title": "Sets a task value on the current task run"
    }
   },
   "outputs": [],
   "source": [
    "# This is used to store and retrieve key-value pairs between tasks in a job.\n",
    "dbutils.jobs.taskValues.set(key=\"weekday_output\",value=var_weekday)"
   ]
  }
 ],
 "metadata": {
  "application/vnd.databricks.v1+notebook": {
   "computePreferences": null,
   "dashboards": [],
   "environmentMetadata": {
    "base_environment": "",
    "environment_version": "2"
   },
   "language": "python",
   "notebookMetadata": {
    "pythonIndentUnit": 4
   },
   "notebookName": "5_Lookup notebook2",
   "widgets": {
    "weekday": {
     "currentValue": "4",
     "nuid": "5a7d0d9e-32f2-4796-ba21-a1b51009de53",
     "typedWidgetInfo": {
      "autoCreated": false,
      "defaultValue": "7",
      "label": null,
      "name": "weekday",
      "options": {
       "widgetDisplayType": "Text",
       "validationRegex": null
      },
      "parameterDataType": "String"
     },
     "widgetInfo": {
      "widgetType": "text",
      "defaultValue": "7",
      "label": null,
      "name": "weekday",
      "options": {
       "widgetType": "text",
       "autoCreated": null,
       "validationRegex": null
      }
     }
    }
   }
  },
  "language_info": {
   "name": "python"
  }
 },
 "nbformat": 4,
 "nbformat_minor": 0
}
