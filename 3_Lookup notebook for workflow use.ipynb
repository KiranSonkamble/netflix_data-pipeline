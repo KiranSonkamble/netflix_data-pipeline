{
 "cells": [
  {
   "cell_type": "markdown",
   "metadata": {
    "application/vnd.databricks.v1+cell": {
     "cellMetadata": {
      "byteLimit": 2048000,
      "rowLimit": 10000
     },
     "inputWidgets": {},
     "nuid": "f105986e-c464-460f-baa3-7167fd0a2b24",
     "showTitle": false,
     "tableResultSettingsMap": {},
     "title": ""
    }
   },
   "source": [
    "## create A lookup notebook"
   ]
  },
  {
   "cell_type": "markdown",
   "metadata": {
    "application/vnd.databricks.v1+cell": {
     "cellMetadata": {
      "byteLimit": 2048000,
      "rowLimit": 10000
     },
     "inputWidgets": {},
     "nuid": "04415ae5-41bf-44e4-9d00-9ff6309ba9c8",
     "showTitle": false,
     "tableResultSettingsMap": {},
     "title": ""
    }
   },
   "source": [
    "A static value can be passed directly between tasks but multiple values/ files/array values need tp be looped and processed within looped activity."
   ]
  },
  {
   "cell_type": "code",
   "execution_count": 0,
   "metadata": {
    "application/vnd.databricks.v1+cell": {
     "cellMetadata": {
      "byteLimit": 2048000,
      "rowLimit": 10000
     },
     "inputWidgets": {},
     "nuid": "aab2032d-f688-4156-98f1-c74084937aa6",
     "showTitle": true,
     "tableResultSettingsMap": {},
     "title": "define an array of source and target folder"
    }
   },
   "outputs": [],
   "source": [
    "f_array=[{\"sourcefolder\": \"netflix_cast\", \"targetfolder\":\"netflix_cast\"},\n",
    "{\"sourcefolder\": \"netflix_category\", \"targetfolder\":\"netflix_category\"},\n",
    "{\"sourcefolder\": \"netflix_countries\", \"targetfolder\":\"netflix_countries\"},\n",
    "{\"sourcefolder\": \"netflix_directors\", \"targetfolder\":\"netflix_directors\"}]"
   ]
  },
  {
   "cell_type": "code",
   "execution_count": 0,
   "metadata": {
    "application/vnd.databricks.v1+cell": {
     "cellMetadata": {
      "byteLimit": 2048000,
      "rowLimit": 10000
     },
     "inputWidgets": {},
     "nuid": "1e0df302-9f3b-444b-ac06-e7e335f61498",
     "showTitle": true,
     "tableResultSettingsMap": {},
     "title": "Set Task Value for Folders Array"
    }
   },
   "outputs": [],
   "source": [
    "# job utility to return the array\n",
    "dbutils.jobs.taskValues.set(key=\"folders\",value=f_array)"
   ]
  },
  {
   "cell_type": "markdown",
   "metadata": {
    "application/vnd.databricks.v1+cell": {
     "cellMetadata": {
      "byteLimit": 2048000,
      "rowLimit": 10000
     },
     "inputWidgets": {},
     "nuid": "ae094309-8a82-4609-953a-b225ba64fff1",
     "showTitle": false,
     "tableResultSettingsMap": {},
     "title": ""
    }
   },
   "source": [
    "The dbutils.jobs.taskValues.set method in Databricks is used for passing values between tasks in a Databricks Job. It stores a value (key, value) that can be retrieved by other tasks in the same job run."
   ]
  },
  {
   "cell_type": "markdown",
   "metadata": {
    "application/vnd.databricks.v1+cell": {
     "cellMetadata": {},
     "inputWidgets": {},
     "nuid": "54247911-5d15-436e-87b7-00e03032f044",
     "showTitle": false,
     "tableResultSettingsMap": {},
     "title": ""
    }
   },
   "source": [
    "\n",
    "**The purpose of this notebook is to demonstrate how to create a lookup notebook in Azure Databricks and how to pass values between tasks in a Databricks Job using dbutils.jobs.taskValues.set. The notebook explains the concept of passing static values directly between tasks and handling multiple values or arrays by looping through them within a looped activity. This approach is useful for parameterizing workflows and automating data processing pipelines.**"
   ]
  }
 ],
 "metadata": {
  "application/vnd.databricks.v1+notebook": {
   "computePreferences": null,
   "dashboards": [],
   "environmentMetadata": {
    "base_environment": "",
    "environment_version": "2"
   },
   "language": "python",
   "notebookMetadata": {
    "pythonIndentUnit": 4
   },
   "notebookName": "3_Lookup notebook for workflow use",
   "widgets": {}
  },
  "language_info": {
   "name": "python"
  }
 },
 "nbformat": 4,
 "nbformat_minor": 0
}
