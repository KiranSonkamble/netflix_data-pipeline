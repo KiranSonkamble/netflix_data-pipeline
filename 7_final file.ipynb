{
 "cells": [
  {
   "cell_type": "markdown",
   "metadata": {
    "application/vnd.databricks.v1+cell": {
     "cellMetadata": {
      "byteLimit": 2048000,
      "rowLimit": 10000
     },
     "inputWidgets": {},
     "nuid": "a8f1d3db-3637-41b1-8cde-15945cea93ed",
     "showTitle": false,
     "tableResultSettingsMap": {},
     "title": ""
    }
   },
   "source": [
    "## Gold Layer"
   ]
  },
  {
   "cell_type": "code",
   "execution_count": 0,
   "metadata": {
    "application/vnd.databricks.v1+cell": {
     "cellMetadata": {},
     "inputWidgets": {},
     "nuid": "4043789d-dfd8-4514-b3ea-b68808370f5f",
     "showTitle": false,
     "tableResultSettingsMap": {},
     "title": ""
    }
   },
   "outputs": [],
   "source": [
    "import dlt\n",
    "from pyspark.sql.functions import col, count"
   ]
  },
  {
   "cell_type": "code",
   "execution_count": 0,
   "metadata": {
    "application/vnd.databricks.v1+cell": {
     "cellMetadata": {},
     "inputWidgets": {},
     "nuid": "13c4a41c-f146-4421-830d-c0db65b499fc",
     "showTitle": true,
     "tableResultSettingsMap": {},
     "title": "validate data"
    }
   },
   "outputs": [],
   "source": [
    "# DLT expectations are for validating data, not transforming it.\n",
    "# EXPECTATION RULES (DATA QUALITY CHECKS)\n",
    "expectation_rules = {\n",
    "    \"valid_show_id\": \"show_id IS NOT NULL\",          # Drop rows with null show_id\n",
    "    \"valid_release_year\": \"release_year IS NOT NULL\",# Drop rows with null release_year\n",
    "    \"valid_date_added\": \"date_added IS NOT NULL\"     # Drop rows with null date_added\n",
    "}"
   ]
  },
  {
   "cell_type": "code",
   "execution_count": 0,
   "metadata": {
    "application/vnd.databricks.v1+cell": {
     "cellMetadata": {},
     "inputWidgets": {},
     "nuid": "606a6f56-4532-477d-b66e-ea04fade8dc4",
     "showTitle": false,
     "tableResultSettingsMap": {},
     "title": ""
    }
   },
   "outputs": [],
   "source": [
    "@dlt.table(comment=\"Read Delta files from silver container\")\n",
    "def netflix_titles():\n",
    "    silver_path = \"abfss://silver@storageforproject.dfs.core.windows.net/netflix_titles\"\n",
    "    return (spark.read.format(\"delta\")\n",
    "            .option(\"header\", \"true\")\n",
    "            .load(silver_path)\n",
    "            )"
   ]
  },
  {
   "cell_type": "code",
   "execution_count": 0,
   "metadata": {
    "application/vnd.databricks.v1+cell": {
     "cellMetadata": {},
     "inputWidgets": {},
     "nuid": "23acac12-2a37-4bf7-a406-22c9690d48a4",
     "showTitle": false,
     "tableResultSettingsMap": {},
     "title": ""
    }
   },
   "outputs": [],
   "source": [
    "@dlt.table(comment=\"Read Delta files from silver container_1\")\n",
    "\n",
    "def netflix_titles_1():\n",
    "    df= spark.readStream(silver_path)\n",
    "    return df"
   ]
  }
 ],
 "metadata": {
  "application/vnd.databricks.v1+notebook": {
   "computePreferences": null,
   "dashboards": [],
   "environmentMetadata": {
    "base_environment": "",
    "environment_version": "2"
   },
   "language": "python",
   "notebookMetadata": {
    "pythonIndentUnit": 4
   },
   "notebookName": "7_final file",
   "widgets": {}
  },
  "language_info": {
   "name": "python"
  }
 },
 "nbformat": 4,
 "nbformat_minor": 0
}
