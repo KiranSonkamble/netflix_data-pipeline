{
 "cells": [
  {
   "cell_type": "markdown",
   "metadata": {
    "application/vnd.databricks.v1+cell": {
     "cellMetadata": {},
     "inputWidgets": {},
     "nuid": "0bf1236e-9b04-44fe-b771-4498902220cc",
     "showTitle": true,
     "tableResultSettingsMap": {},
     "title": "create a lookup table"
    }
   },
   "source": [
    "We have multiple files, good choice to read and write files using widgets because it acts as parameters to pipeline.\n",
    "We need to store the parameters/widgets value before using in main code.\n",
    "\n",
    "Why to use widgets?\n",
    "We want workflow to be parameterized and run automatically"
   ]
  },
  {
   "cell_type": "code",
   "execution_count": 0,
   "metadata": {
    "application/vnd.databricks.v1+cell": {
     "cellMetadata": {
      "byteLimit": 2048000,
      "rowLimit": 10000
     },
     "inputWidgets": {},
     "nuid": "9d9fd177-51c1-4814-b295-5e46e3c6ce84",
     "showTitle": true,
     "tableResultSettingsMap": {},
     "title": "create a widgets"
    }
   },
   "outputs": [],
   "source": [
    "dbutils.widgets.text(\"sourcefolder\", \"netflix_cast\")\n",
    "dbutils.widgets.text(\"targetfolder\", \"netflix_cast\")"
   ]
  },
  {
   "cell_type": "code",
   "execution_count": 0,
   "metadata": {
    "application/vnd.databricks.v1+cell": {
     "cellMetadata": {
      "byteLimit": 2048000,
      "rowLimit": 10000
     },
     "inputWidgets": {},
     "nuid": "ff8f184f-5277-4f4f-8597-74343a9accff",
     "showTitle": false,
     "tableResultSettingsMap": {},
     "title": ""
    }
   },
   "outputs": [],
   "source": [
    "var_sourcefolder = dbutils.widgets.get(\"sourcefolder\")\n",
    "var_targetfolder = dbutils.widgets.get(\"targetfolder\")"
   ]
  },
  {
   "cell_type": "code",
   "execution_count": 0,
   "metadata": {
    "application/vnd.databricks.v1+cell": {
     "cellMetadata": {
      "byteLimit": 2048000,
      "rowLimit": 10000
     },
     "inputWidgets": {},
     "nuid": "1b0e6c3f-ea86-42be-87a8-f5797976f820",
     "showTitle": false,
     "tableResultSettingsMap": {},
     "title": ""
    }
   },
   "outputs": [],
   "source": [
    "df= spark.read.format(\"csv\")\\\n",
    "    .option(\"header\",True)\\\n",
    "    .option(\"inferschema\",True)\\\n",
    "    .load(f\"abfss://bronze@storageforproject.dfs.core.windows.net/{var_sourcefolder}\")"
   ]
  },
  {
   "cell_type": "code",
   "execution_count": 0,
   "metadata": {
    "application/vnd.databricks.v1+cell": {
     "cellMetadata": {
      "byteLimit": 2048000,
      "rowLimit": 10000
     },
     "inputWidgets": {},
     "nuid": "3108c054-9ba6-459b-a5ba-ada69a29208d",
     "showTitle": false,
     "tableResultSettingsMap": {},
     "title": ""
    }
   },
   "outputs": [],
   "source": [
    "display(df)"
   ]
  },
  {
   "cell_type": "code",
   "execution_count": 0,
   "metadata": {
    "application/vnd.databricks.v1+cell": {
     "cellMetadata": {
      "byteLimit": 2048000,
      "rowLimit": 10000
     },
     "inputWidgets": {},
     "nuid": "15295574-e417-43bd-acf2-1f1134760b1d",
     "showTitle": true,
     "tableResultSettingsMap": {},
     "title": "write the data into silver layer"
    }
   },
   "outputs": [],
   "source": [
    "df.write.format(\"delta\")\\\n",
    "    .mode(\"append\")\\\n",
    "    .option(\"overwriteSchema\", \"true\")\\\n",
    "    .option(\"path\",f\"abfss://silver@storageforproject.dfs.core.windows.net/{var_targetfolder}\")\\\n",
    "    .save()\n",
    "    "
   ]
  },
  {
   "cell_type": "markdown",
   "metadata": {
    "application/vnd.databricks.v1+cell": {
     "cellMetadata": {},
     "inputWidgets": {},
     "nuid": "db3ebdfb-d137-47f0-a662-bf042e0fdab8",
     "showTitle": false,
     "tableResultSettingsMap": {},
     "title": ""
    }
   },
   "source": [
    "This Notebook showcases how to work with workflows and autoloaders dynamically.\n",
    "This data is clean and transformed as per our need."
   ]
  }
 ],
 "metadata": {
  "application/vnd.databricks.v1+notebook": {
   "computePreferences": null,
   "dashboards": [],
   "environmentMetadata": {
    "base_environment": "",
    "environment_version": "2"
   },
   "language": "python",
   "notebookMetadata": {
    "pythonIndentUnit": 4
   },
   "notebookName": "2_bronze to Silver layer",
   "widgets": {
    "sourcefolder": {
     "currentValue": "netflix_cast",
     "nuid": "dfc2d4cb-06bf-42d8-9736-21621d675c18",
     "typedWidgetInfo": {
      "autoCreated": false,
      "defaultValue": "netflix_cast",
      "label": null,
      "name": "sourcefolder",
      "options": {
       "widgetDisplayType": "Text",
       "validationRegex": null
      },
      "parameterDataType": "String"
     },
     "widgetInfo": {
      "widgetType": "text",
      "defaultValue": "netflix_cast",
      "label": null,
      "name": "sourcefolder",
      "options": {
       "widgetType": "text",
       "autoCreated": false,
       "validationRegex": null
      }
     }
    },
    "targetfolder": {
     "currentValue": "netflix_cast",
     "nuid": "c97055b8-74be-4421-af66-886ffd36faab",
     "typedWidgetInfo": {
      "autoCreated": false,
      "defaultValue": "netflix_cast",
      "label": null,
      "name": "targetfolder",
      "options": {
       "widgetDisplayType": "Text",
       "validationRegex": null
      },
      "parameterDataType": "String"
     },
     "widgetInfo": {
      "widgetType": "text",
      "defaultValue": "netflix_cast",
      "label": null,
      "name": "targetfolder",
      "options": {
       "widgetType": "text",
       "autoCreated": false,
       "validationRegex": null
      }
     }
    }
   }
  },
  "language_info": {
   "name": "python"
  }
 },
 "nbformat": 4,
 "nbformat_minor": 0
}
